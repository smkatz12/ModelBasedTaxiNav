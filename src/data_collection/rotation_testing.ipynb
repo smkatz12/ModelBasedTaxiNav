{
 "cells": [
  {
   "cell_type": "code",
   "execution_count": 1,
   "metadata": {},
   "outputs": [],
   "source": [
    "import time\n",
    "import numpy as np\n",
    "\n",
    "import mss\n",
    "import cv2\n",
    "from PIL import Image\n",
    "\n",
    "import matplotlib.pyplot as plt\n",
    "\n",
    "from xpc3 import *\n",
    "from xpc3_helper_sm import *"
   ]
  },
  {
   "cell_type": "code",
   "execution_count": 2,
   "metadata": {},
   "outputs": [],
   "source": [
    "client = XPlaneConnect()\n",
    "reset(client, dtpInit=270.0)"
   ]
  },
  {
   "attachments": {},
   "cell_type": "markdown",
   "metadata": {},
   "source": [
    "# Useful Functions"
   ]
  },
  {
   "cell_type": "code",
   "execution_count": 3,
   "metadata": {},
   "outputs": [],
   "source": [
    "def get_pixel_line(A, B, sh, sw):\n",
    "    # Convert to homogeneous and get Plucker\n",
    "    Ah = np.append(np.array(A), 1.0)\n",
    "    Bh = np.append(np.array(B), 1.0)\n",
    "    L = np.outer(Ah, Bh) - np.outer(Bh, Ah)\n",
    "\n",
    "    # Get projection matrix\n",
    "    mv = np.reshape(client.getDREF(\"sim/graphics/view/world_matrix\"), (4, 4)).T\n",
    "    proj = np.reshape(client.getDREF(\n",
    "        \"sim/graphics/view/projection_matrix_3d\"), (4, 4)).T\n",
    "    proj_3 = np.zeros((3, 4))\n",
    "    proj_3[:2, :] = proj[:2, :]\n",
    "    proj_3[2, :] = proj[3, :]\n",
    "    screen_mat = np.array([[0.5 * sw, 0.0, 0.5 * sw],\n",
    "                           [0.0, -0.5 * sh, 0.5 * sh],\n",
    "                           [0.0, 0.0, 1.0]])\n",
    "    P = screen_mat @ proj_3 @ mv\n",
    "\n",
    "    lx = P @ L @ P.T\n",
    "    return np.array([lx[2, 1], lx[0, 2], lx[1, 0]])\n",
    "\n",
    "\n",
    "def get_plane(A, B, C):\n",
    "    v1 = A - B\n",
    "    v2 = C - A\n",
    "    n = np.cross(v1, v2)\n",
    "    k = -np.dot(A, n)\n",
    "    return np.array([n[0], n[1], n[2], k])\n",
    "\n",
    "\n",
    "def get_plane_int(p1, p2):\n",
    "    p1_normal = p1[:3]\n",
    "    p2_normal = p2[:3]\n",
    "\n",
    "    p3_normal = np.cross(p1_normal, p2_normal)\n",
    "    det = np.sum(np.square(p3_normal))\n",
    "\n",
    "    r_point = (np.cross(p3_normal, p2_normal) *\n",
    "               p1[3] + np.cross(p1_normal, p3_normal) * p2[3]) / det\n",
    "    r_normal = p3_normal\n",
    "\n",
    "    return r_point, r_normal\n",
    "\n",
    "\n",
    "def get_pixels(line, sw):\n",
    "    a, b, c = line\n",
    "    xs = np.arange(0, sw, 1)\n",
    "    ys = [-(a / b) * x + (-c / b) for x in xs]\n",
    "    return xs, ys\n",
    "\n",
    "\n",
    "def plot_line_in_image(ss, A, B):\n",
    "    sh, sw, _ = ss.shape\n",
    "    l = get_pixel_line(A, B, sh, sw)\n",
    "    xs, ys = get_pixels(l, sw)\n",
    "    plt.figure(figsize=(10, 6))\n",
    "    plt.imshow(ss)\n",
    "    plt.plot(xs, ys, c='lime', linewidth=2.0)\n",
    "    plt.axis('off')\n"
   ]
  },
  {
   "attachments": {},
   "cell_type": "markdown",
   "metadata": {},
   "source": [
    "# Get Anchor Values"
   ]
  },
  {
   "cell_type": "code",
   "execution_count": 4,
   "metadata": {},
   "outputs": [],
   "source": [
    "screen_shot = mss.mss()\n",
    "ss = cv2.cvtColor(np.array(screen_shot.grab(\n",
    "    screen_shot.monitors[2])), cv2.COLOR_BGRA2BGR)[:, :, ::-1]\n",
    "sh, sw, _ = ss.shape"
   ]
  },
  {
   "cell_type": "code",
   "execution_count": 5,
   "metadata": {},
   "outputs": [
    {
     "name": "stdout",
     "output_type": "stream",
     "text": [
      "H0:  [[-9.14254069e-01  0.00000000e+00  4.05141264e-01  1.38986855e+04]\n",
      " [ 0.00000000e+00  1.00000000e+00  0.00000000e+00  1.81350555e+02]\n",
      " [-4.05141264e-01  0.00000000e+00 -9.14254069e-01  5.67687930e+04]\n",
      " [ 0.00000000e+00  0.00000000e+00  0.00000000e+00  1.00000000e+00]]\n",
      "K0:  [[ 1.14408348e+03  0.00000000e+00 -9.60000000e+02  0.00000000e+00]\n",
      " [ 0.00000000e+00 -1.14408334e+03 -5.40000000e+02  0.00000000e+00]\n",
      " [ 0.00000000e+00  0.00000000e+00 -1.00000000e+00  0.00000000e+00]]\n"
     ]
    }
   ],
   "source": [
    "H0 = np.reshape(client.getDREF(\"sim/graphics/view/world_matrix\"), (4, 4)).T\n",
    "proj = np.reshape(client.getDREF(\n",
    "    \"sim/graphics/view/projection_matrix_3d\"), (4, 4)).T\n",
    "proj_3 = np.zeros((3, 4))\n",
    "proj_3[:2, :] = proj[:2, :]\n",
    "proj_3[2, :] = proj[3, :]\n",
    "screen_mat = np.array([[0.5 * sw, 0.0, 0.5 * sw],\n",
    "                       [0.0, -0.5 * sh, 0.5 * sh],\n",
    "                       [0.0, 0.0, 1.0]])\n",
    "K0 = screen_mat @ proj_3\n",
    "\n",
    "print(\"H0: \", H0)\n",
    "print(\"K0: \", K0)"
   ]
  },
  {
   "cell_type": "code",
   "execution_count": 7,
   "metadata": {},
   "outputs": [],
   "source": [
    "l1 = np.array([35929.9796875, -190.48041382, 46803.98203125])\n",
    "l2 = np.array([35753.2046875, -185.55480957, 46404.71953125])\n",
    "r1 = np.array([35950.821875, -190.52763977, 46794.65])\n",
    "r2 = np.array([35773.7703125, -185.58735657, 46395.5515625])"
   ]
  },
  {
   "cell_type": "code",
   "execution_count": 23,
   "metadata": {},
   "outputs": [],
   "source": [
    "r1c = H0 @ np.append(r1, 1.0)\n",
    "r2c = H0 @ np.append(r2, 1.0)\n",
    "l1c = H0 @ np.append(l1, 1.0)\n",
    "l2c = H0 @ np.append(l2, 1.0)\n",
    "c1c = (l1c[:3] + r1c[:3]) / 2"
   ]
  },
  {
   "cell_type": "code",
   "execution_count": 17,
   "metadata": {},
   "outputs": [],
   "source": [
    "ground_plane = get_plane(np.array(r1c[:3]), np.array(r2c[:3]), np.array(l1c[:3]))"
   ]
  },
  {
   "attachments": {},
   "cell_type": "markdown",
   "metadata": {},
   "source": [
    "# Try with new reference frame"
   ]
  },
  {
   "cell_type": "code",
   "execution_count": 18,
   "metadata": {},
   "outputs": [],
   "source": [
    "def get_corresponding_plane(l):\n",
    "    return K0.T @ l\n",
    "\n",
    "\n",
    "def get_3d_line(l, ground_plane):\n",
    "    edge_plane = get_corresponding_plane(l)\n",
    "    r_point, r_normal = get_plane_int(edge_plane, ground_plane)\n",
    "    return r_point, r_normal"
   ]
  },
  {
   "cell_type": "code",
   "execution_count": 21,
   "metadata": {},
   "outputs": [
    {
     "name": "stdout",
     "output_type": "stream",
     "text": [
      "[3.89413289e-11 3.89413289e-11 3.89413289e-11]\n",
      "[3.86602918e-11 3.86602917e-11 3.86602917e-11]\n"
     ]
    }
   ],
   "source": [
    "setHomeState(client, 0, 270, 0)\n",
    "time.sleep(0.2)\n",
    "line_right = get_pixel_line(r1, r2, sh, sw)\n",
    "line_right_a, line_right_u = get_3d_line(line_right, ground_plane)\n",
    "print((r1c[:3] - line_right_a) / line_right_u)\n",
    "line_left = get_pixel_line(l1, l2, sh, sw)\n",
    "line_left_a, line_left_u = get_3d_line(line_left, ground_plane)\n",
    "print((l1c[:3] - line_left_a) / line_left_u)"
   ]
  },
  {
   "cell_type": "code",
   "execution_count": 22,
   "metadata": {},
   "outputs": [],
   "source": [
    "def get_distance(p1, l1, p2):\n",
    "    n = l1 / np.linalg.norm(l1)\n",
    "    m = np.cross(p1, n)\n",
    "\n",
    "    d = np.linalg.norm(np.cross(p2, n) - m)\n",
    "\n",
    "    return d"
   ]
  },
  {
   "cell_type": "code",
   "execution_count": 25,
   "metadata": {},
   "outputs": [
    {
     "name": "stdout",
     "output_type": "stream",
     "text": [
      "11.417965206664903\n",
      "11.417926637334881\n"
     ]
    }
   ],
   "source": [
    "print(get_distance(line_right_a, line_right_u, c1c))\n",
    "print(get_distance(line_left_a, line_left_u, c1c))"
   ]
  },
  {
   "cell_type": "code",
   "execution_count": 31,
   "metadata": {},
   "outputs": [
    {
     "data": {
      "text/plain": [
       "7.94325378311388"
      ]
     },
     "execution_count": 31,
     "metadata": {},
     "output_type": "execute_result"
    }
   ],
   "source": [
    "setHomeState(client, 8, 320, 0)\n",
    "time.sleep(0.2)\n",
    "line_right = get_pixel_line(r1, r2, sh, sw)\n",
    "line_right_a, line_right_u = get_3d_line(line_right, ground_plane)\n",
    "# print((r1 - line_right_a) / line_right_u)\n",
    "line_left = get_pixel_line(l1, l2, sh, sw)\n",
    "line_left_a, line_left_u = get_3d_line(line_left, ground_plane)\n",
    "# print((l1 - line_left_a) / line_left_u)\n",
    "\n",
    "11.417965507841265 - get_distance(line_right_a, line_right_u, c1c)"
   ]
  },
  {
   "attachments": {},
   "cell_type": "markdown",
   "metadata": {},
   "source": [
    "# Rotation"
   ]
  },
  {
   "cell_type": "code",
   "execution_count": 45,
   "metadata": {},
   "outputs": [],
   "source": [
    "def get_rot_x(theta):\n",
    "    return np.array([[1.0, 0.0, 0.0],\n",
    "                     [0.0, np.cos(theta), -np.sin(theta)],\n",
    "                     [0.0, np.sin(theta), np.cos(theta)]])\n",
    "\n",
    "\n",
    "def get_rot_y(theta):\n",
    "    return np.array([[np.cos(theta), 0.0, np.sin(theta)],\n",
    "                     [0.0, 1.0, 0.0],\n",
    "                     [-np.sin(theta), 0.0, np.cos(theta)]])\n",
    "\n",
    "\n",
    "def get_rot_z(theta):\n",
    "    return np.array([[np.cos(theta), -np.sin(theta), 0.0],\n",
    "                     [np.sin(theta), np.cos(theta), 0.0],\n",
    "                     [0.0, 1.0, 0.0]])\n"
   ]
  },
  {
   "cell_type": "code",
   "execution_count": 53,
   "metadata": {},
   "outputs": [
    {
     "name": "stdout",
     "output_type": "stream",
     "text": [
      "[-5.90792060e-06  1.11761471e-09 -3.14939294e-09]\n",
      "[ 1.38538904e-08  1.15439004e-09 -3.14706415e-09]\n"
     ]
    }
   ],
   "source": [
    "setHomeState(client, 0, 270, 0)\n",
    "time.sleep(0.2)\n",
    "line_right0 = get_pixel_line(r1, r2, sh, sw)\n",
    "line_right0_a, line_right0_u = get_3d_line(line_right0, ground_plane)\n",
    "print((r1 - line_right0_a) / line_right0_u)\n",
    "line_left0 = get_pixel_line(l1, l2, sh, sw)\n",
    "line_left0_a, line_left0_u = get_3d_line(line_left0, ground_plane)\n",
    "print((l1 - line_left_a) / line_left_u)"
   ]
  },
  {
   "cell_type": "code",
   "execution_count": 54,
   "metadata": {},
   "outputs": [
    {
     "data": {
      "text/plain": [
       "-182.10951232910156"
      ]
     },
     "execution_count": 54,
     "metadata": {},
     "output_type": "execute_result"
    }
   ],
   "source": [
    "client.getDREF(\"sim/flightmodel/position/local_y\")[0]\n"
   ]
  },
  {
   "cell_type": "code",
   "execution_count": 107,
   "metadata": {},
   "outputs": [
    {
     "name": "stdout",
     "output_type": "stream",
     "text": [
      "[ 0.00000001  0.         -0.        ]\n",
      "[ 0.00000001  0.         -0.        ]\n"
     ]
    }
   ],
   "source": [
    "setHomeState(client, 8, 270, 10)\n",
    "time.sleep(0.2)\n",
    "line_right = get_pixel_line(r1, r2, sh, sw)\n",
    "line_right_a, line_right_u = get_3d_line(line_right, ground_plane)\n",
    "print((r1 - line_right_a) / line_right_u)\n",
    "line_left = get_pixel_line(l1, l2, sh, sw)\n",
    "line_left_a, line_left_u = get_3d_line(line_left, ground_plane)\n",
    "print((l1 - line_left_a) / line_left_u)"
   ]
  },
  {
   "cell_type": "code",
   "execution_count": 108,
   "metadata": {},
   "outputs": [
    {
     "data": {
      "text/plain": [
       "8.472877205564863"
      ]
     },
     "execution_count": 108,
     "metadata": {},
     "output_type": "execute_result"
    }
   ],
   "source": [
    "Ry = get_rot_y(np.radians(10))\n",
    "line_right_arot, line_right_urot = Ry @ line_right_a, Ry @ line_right_u\n",
    "11.417965507841265 - get_distance(line_right_arot, line_right_urot, c1c)"
   ]
  },
  {
   "cell_type": "code",
   "execution_count": null,
   "metadata": {},
   "outputs": [],
   "source": []
  },
  {
   "cell_type": "code",
   "execution_count": null,
   "metadata": {},
   "outputs": [],
   "source": []
  },
  {
   "cell_type": "code",
   "execution_count": null,
   "metadata": {},
   "outputs": [],
   "source": []
  },
  {
   "cell_type": "code",
   "execution_count": null,
   "metadata": {},
   "outputs": [],
   "source": []
  },
  {
   "cell_type": "code",
   "execution_count": null,
   "metadata": {},
   "outputs": [],
   "source": []
  },
  {
   "cell_type": "code",
   "execution_count": 39,
   "metadata": {},
   "outputs": [
    {
     "data": {
      "text/plain": [
       "array([-4.09645300e-04, -1.13144138e-02, -9.99935906e-01])"
      ]
     },
     "execution_count": 39,
     "metadata": {},
     "output_type": "execute_result"
    }
   ],
   "source": [
    "line_right0_u / np.linalg.norm(line_right0_u)"
   ]
  },
  {
   "cell_type": "code",
   "execution_count": 58,
   "metadata": {},
   "outputs": [
    {
     "data": {
      "text/plain": [
       "array([-832.24107831,    0.94402912,    0.93152369])"
      ]
     },
     "execution_count": 58,
     "metadata": {},
     "output_type": "execute_result"
    }
   ],
   "source": [
    "R = get_rot_y(-10 * np.pi / 180)\n",
    "urot = R @ line_right_u\n",
    "urot / line_right0_u"
   ]
  },
  {
   "cell_type": "code",
   "execution_count": 42,
   "metadata": {},
   "outputs": [
    {
     "data": {
      "text/plain": [
       "array([[ 1.14408348e+03,  0.00000000e+00, -9.60000000e+02,\n",
       "         0.00000000e+00],\n",
       "       [ 0.00000000e+00, -1.14408334e+03, -5.40000000e+02,\n",
       "         0.00000000e+00],\n",
       "       [ 0.00000000e+00,  0.00000000e+00, -1.00000000e+00,\n",
       "         0.00000000e+00]])"
      ]
     },
     "execution_count": 42,
     "metadata": {},
     "output_type": "execute_result"
    }
   ],
   "source": [
    "K0"
   ]
  },
  {
   "cell_type": "code",
   "execution_count": 66,
   "metadata": {},
   "outputs": [
    {
     "data": {
      "text/plain": [
       "array([-0.00080976,  0.38348469, -0.00433885,  1.        ])"
      ]
     },
     "execution_count": 66,
     "metadata": {},
     "output_type": "execute_result"
    }
   ],
   "source": [
    "np.set_printoptions(suppress=True)\n",
    "ground_plane / ground_plane[3]\n"
   ]
  },
  {
   "cell_type": "code",
   "execution_count": 61,
   "metadata": {},
   "outputs": [
    {
     "data": {
      "text/plain": [
       "array([  11.77985644,   -9.1298584 , -578.65545737,    1.        ])"
      ]
     },
     "execution_count": 61,
     "metadata": {},
     "output_type": "execute_result"
    }
   ],
   "source": [
    "l1c"
   ]
  },
  {
   "cell_type": "code",
   "execution_count": 62,
   "metadata": {},
   "outputs": [
    {
     "data": {
      "text/plain": [
       "array([ -11.05598923,   -9.17708435, -578.56764002,    1.        ])"
      ]
     },
     "execution_count": 62,
     "metadata": {},
     "output_type": "execute_result"
    }
   ],
   "source": [
    "r1c"
   ]
  },
  {
   "cell_type": "code",
   "execution_count": 63,
   "metadata": {},
   "outputs": [
    {
     "data": {
      "text/plain": [
       "array([ -10.87712325,   -4.23680115, -141.95937561,    1.        ])"
      ]
     },
     "execution_count": 63,
     "metadata": {},
     "output_type": "execute_result"
    }
   ],
   "source": [
    "r2c"
   ]
  },
  {
   "cell_type": "code",
   "execution_count": 67,
   "metadata": {},
   "outputs": [],
   "source": [
    "u1, u2 = line_right0_u, line_right_u"
   ]
  },
  {
   "cell_type": "code",
   "execution_count": 71,
   "metadata": {},
   "outputs": [
    {
     "data": {
      "text/plain": [
       "10.125952188121646"
      ]
     },
     "execution_count": 71,
     "metadata": {},
     "output_type": "execute_result"
    }
   ],
   "source": [
    "np.degrees(np.arccos(np.dot(u1, u2) / (np.linalg.norm(u1) * np.linalg.norm(u2))))"
   ]
  },
  {
   "cell_type": "code",
   "execution_count": 72,
   "metadata": {},
   "outputs": [],
   "source": [
    "def rotate_around_vec(vec, pt, theta):\n",
    "    u = vec / np.linalg.norm(vec)\n",
    "    W = np.array([[0, -u[2], u[1]],\n",
    "                  [u[2], 0, -u[0]],\n",
    "                  [-u[1], u[0], 0.0]])\n",
    "    R = np.eye(3) + np.sin(theta) * W + (2 * (np.sin(theta / 2))**2) * (W @ W)\n",
    "    return R @ pt"
   ]
  },
  {
   "cell_type": "code",
   "execution_count": 75,
   "metadata": {},
   "outputs": [],
   "source": [
    "u2prime = rotate_around_vec(ground_plane[:3], u1, np.radians(-10))"
   ]
  },
  {
   "cell_type": "code",
   "execution_count": 78,
   "metadata": {},
   "outputs": [],
   "source": [
    "def get_rot_a_to_b(ain, bin):\n",
    "    a = ain / np.linalg.norm(ain)\n",
    "    b = bin / np.linalg.norm(bin)\n",
    "\n",
    "    v = np.cross(a, b)\n",
    "    s = np.linalg.norm(v)\n",
    "    c = np.dot(a, b)\n",
    "    vx = np.array([[0.0, -v[2], v[1]],\n",
    "                   [v[2], 0.0, -v[0]],\n",
    "                   [-v[1], v[0], 0.0]])\n",
    "    \n",
    "    return np.eye(3) + vx + vx @ vx * ((1 - c) / (s**2))"
   ]
  },
  {
   "cell_type": "code",
   "execution_count": 80,
   "metadata": {},
   "outputs": [],
   "source": [
    "u1, u2 = line_right0_u / np.linalg.norm(line_right0_u), line_right_u / np.linalg.norm(line_right_u)"
   ]
  },
  {
   "cell_type": "code",
   "execution_count": 90,
   "metadata": {},
   "outputs": [
    {
     "data": {
      "text/plain": [
       "array([[ 0.98442372,  0.00195617,  0.17580137],\n",
       "       [-0.00202195,  0.99999794,  0.000195  ],\n",
       "       [-0.17580062, -0.00054743,  0.98442564]])"
      ]
     },
     "execution_count": 90,
     "metadata": {},
     "output_type": "execute_result"
    }
   ],
   "source": [
    "R = get_rot_a_to_b(u2, u1)\n",
    "R"
   ]
  },
  {
   "cell_type": "code",
   "execution_count": 91,
   "metadata": {},
   "outputs": [
    {
     "data": {
      "text/plain": [
       "array([[ 0.98480775,  0.        ,  0.17364818],\n",
       "       [ 0.        ,  1.        ,  0.        ],\n",
       "       [-0.17364818,  0.        ,  0.98480775]])"
      ]
     },
     "execution_count": 91,
     "metadata": {},
     "output_type": "execute_result"
    }
   ],
   "source": [
    "Ry = get_rot_y(np.radians(10))\n",
    "Ry"
   ]
  },
  {
   "cell_type": "code",
   "execution_count": 94,
   "metadata": {},
   "outputs": [
    {
     "data": {
      "text/plain": [
       "array([ 0.00179846, -0.0107678 , -0.99994041])"
      ]
     },
     "execution_count": 94,
     "metadata": {},
     "output_type": "execute_result"
    }
   ],
   "source": [
    "Ry @ u2"
   ]
  },
  {
   "cell_type": "code",
   "execution_count": 95,
   "metadata": {},
   "outputs": [
    {
     "data": {
      "text/plain": [
       "array([-0.00040965, -0.01131441, -0.99993591])"
      ]
     },
     "execution_count": 95,
     "metadata": {},
     "output_type": "execute_result"
    }
   ],
   "source": [
    "u1"
   ]
  },
  {
   "attachments": {},
   "cell_type": "markdown",
   "metadata": {},
   "source": [
    "# Try out full calculation pipeline"
   ]
  },
  {
   "cell_type": "code",
   "execution_count": 111,
   "metadata": {},
   "outputs": [
    {
     "data": {
      "text/plain": [
       "(array([   0.3619336 ,   -9.15347138, -578.61154869]),\n",
       " array([-0.00040965, -0.01131441, -0.99993591]),\n",
       " array([    21.05308266,  -9970.33465342,    112.80709762, -25999.30320831]),\n",
       " array([[ 1144.08348083,     0.        ,  -960.        ,     0.        ],\n",
       "        [    0.        , -1144.08333778,  -540.        ,     0.        ],\n",
       "        [    0.        ,     0.        ,    -1.        ,     0.        ]]))"
      ]
     },
     "execution_count": 111,
     "metadata": {},
     "output_type": "execute_result"
    }
   ],
   "source": [
    "# Things needed\n",
    "c1c, u1, ground_plane, K0"
   ]
  },
  {
   "cell_type": "code",
   "execution_count": 112,
   "metadata": {},
   "outputs": [],
   "source": [
    "def get_corresponding_plane(l, K0):\n",
    "    return K0.T @ l\n",
    "\n",
    "\n",
    "def get_3d_line(l, K0, ground_plane):\n",
    "    edge_plane = get_corresponding_plane(l, K0)\n",
    "    r_point, r_normal = get_plane_int(edge_plane, ground_plane)\n",
    "    return r_point, r_normal"
   ]
  },
  {
   "cell_type": "code",
   "execution_count": 203,
   "metadata": {},
   "outputs": [],
   "source": [
    "def get_state(pixel_line, K0, ground_plane, u1, c1):\n",
    "    p2, u2 = get_3d_line(pixel_line, K0, ground_plane)\n",
    "\n",
    "    # Determine heading\n",
    "    cos_heading = np.dot(u1, u2) / (np.linalg.norm(u1) * np.linalg.norm(u2))\n",
    "    if cos_heading > 1.0:\n",
    "        cos_heading = 1.0\n",
    "    heading = np.arccos(cos_heading) # degrees\n",
    "\n",
    "    # Unrotate\n",
    "    Ry = get_rot_y(heading)\n",
    "    p2rot, u2rot = Ry @ p2, Ry @ u2\n",
    "    if np.linalg.norm(np.cross(u1, u2rot / np.linalg.norm(u2rot))) > 1e-2:\n",
    "        # Rotated the wrong way\n",
    "        heading = -heading\n",
    "        Ry = get_rot_y(heading)\n",
    "        p2rot, u2rot = Ry @ p2, Ry @ u2\n",
    "\n",
    "    # Determine crosstrack\n",
    "    crosstrack = 11.417965507841265 - get_distance(p2rot, u2rot, c1)\n",
    "\n",
    "    return crosstrack, np.degrees(heading)\n"
   ]
  },
  {
   "cell_type": "code",
   "execution_count": 221,
   "metadata": {},
   "outputs": [],
   "source": [
    "setHomeState(client, -2.0, 270, 5)\n",
    "time.sleep(0.2)\n",
    "line_right = get_pixel_line(r1, r2, sh, sw)\n",
    "line_left = get_pixel_line(l1, l2, sh, sw)"
   ]
  },
  {
   "cell_type": "code",
   "execution_count": 222,
   "metadata": {},
   "outputs": [
    {
     "data": {
      "text/plain": [
       "(2.458862834820529, 5.000808949443581)"
      ]
     },
     "execution_count": 222,
     "metadata": {},
     "output_type": "execute_result"
    }
   ],
   "source": [
    "get_state(line_left, K0, ground_plane, u1, c1c)"
   ]
  },
  {
   "cell_type": "code",
   "execution_count": null,
   "metadata": {},
   "outputs": [],
   "source": []
  }
 ],
 "metadata": {
  "kernelspec": {
   "display_name": "Python 3",
   "language": "python",
   "name": "python3"
  },
  "language_info": {
   "codemirror_mode": {
    "name": "ipython",
    "version": 3
   },
   "file_extension": ".py",
   "mimetype": "text/x-python",
   "name": "python",
   "nbconvert_exporter": "python",
   "pygments_lexer": "ipython3",
   "version": "3.9.2"
  },
  "orig_nbformat": 4
 },
 "nbformat": 4,
 "nbformat_minor": 2
}
