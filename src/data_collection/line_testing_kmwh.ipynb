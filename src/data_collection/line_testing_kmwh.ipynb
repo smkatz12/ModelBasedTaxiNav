{
 "cells": [
  {
   "cell_type": "code",
   "execution_count": 1,
   "metadata": {},
   "outputs": [],
   "source": [
    "import time\n",
    "import numpy as np\n",
    "\n",
    "import mss\n",
    "import cv2\n",
    "from PIL import Image\n",
    "\n",
    "import matplotlib.pyplot as plt\n",
    "\n",
    "from xpc3 import *\n",
    "from xpc3_helper import *"
   ]
  },
  {
   "cell_type": "code",
   "execution_count": 3,
   "metadata": {},
   "outputs": [],
   "source": [
    "client = XPlaneConnect()\n",
    "reset(client, dtpInit=322.0)"
   ]
  },
  {
   "attachments": {},
   "cell_type": "markdown",
   "metadata": {},
   "source": [
    "# Useful Functions"
   ]
  },
  {
   "cell_type": "code",
   "execution_count": 4,
   "metadata": {},
   "outputs": [],
   "source": [
    "def get_pixel_line(A, B, sh, sw):\n",
    "    # Convert to homogeneous and get Plucker\n",
    "    Ah = np.append(np.array(A), 1.0)\n",
    "    Bh = np.append(np.array(B), 1.0)\n",
    "    L = np.outer(Ah, Bh) - np.outer(Bh, Ah)\n",
    "\n",
    "    # Get projection matrix\n",
    "    mv = np.reshape(client.getDREF(\"sim/graphics/view/world_matrix\"), (4, 4)).T\n",
    "    proj = np.reshape(client.getDREF(\n",
    "        \"sim/graphics/view/projection_matrix_3d\"), (4, 4)).T\n",
    "    proj_3 = np.zeros((3, 4))\n",
    "    proj_3[:2, :] = proj[:2, :]\n",
    "    proj_3[2, :] = proj[3, :]\n",
    "    screen_mat = np.array([[0.5 * sw, 0.0, 0.5 * sw],\n",
    "                           [0.0, -0.5 * sh, 0.5 * sh],\n",
    "                           [0.0, 0.0, 1.0]])\n",
    "    P = screen_mat @ proj_3 @ mv\n",
    "\n",
    "    lx = P @ L @ P.T\n",
    "    return np.array([lx[2, 1], lx[0, 2], lx[1, 0]])\n",
    "\n",
    "\n",
    "def get_plane(A, B, C):\n",
    "    v1 = A - B\n",
    "    v2 = C - A\n",
    "    n = np.cross(v1, v2)\n",
    "    k = -np.dot(A, n)\n",
    "    return np.array([n[0], n[1], n[2], k])\n",
    "\n",
    "\n",
    "def get_plane_int(p1, p2):\n",
    "    p1_normal = p1[:3]\n",
    "    p2_normal = p2[:3]\n",
    "\n",
    "    p3_normal = np.cross(p1_normal, p2_normal)\n",
    "    det = np.sum(np.square(p3_normal))\n",
    "\n",
    "    r_point = (np.cross(p3_normal, p2_normal) *\n",
    "               p1[3] + np.cross(p1_normal, p3_normal) * p2[3]) / det\n",
    "    r_normal = p3_normal\n",
    "\n",
    "    return r_point, r_normal\n",
    "\n",
    "\n",
    "def get_pixels(line, sw):\n",
    "    a, b, c = line\n",
    "    xs = np.arange(0, sw, 1)\n",
    "    ys = [-(a / b) * x + (-c / b) for x in xs]\n",
    "    return xs, ys\n",
    "\n",
    "\n",
    "def plot_line_in_image(ss, A, B):\n",
    "    sh, sw, _ = ss.shape\n",
    "    l = get_pixel_line(A, B, sh, sw)\n",
    "    xs, ys = get_pixels(l, sw)\n",
    "    plt.figure(figsize=(10, 6))\n",
    "    plt.imshow(ss)\n",
    "    plt.plot(xs, ys, c='lime', linewidth=2.0)\n",
    "    plt.axis('off')"
   ]
  },
  {
   "attachments": {},
   "cell_type": "markdown",
   "metadata": {},
   "source": [
    "# Get Anchor Values"
   ]
  },
  {
   "cell_type": "code",
   "execution_count": 5,
   "metadata": {},
   "outputs": [],
   "source": [
    "screen_shot = mss.mss()\n",
    "ss = cv2.cvtColor(np.array(screen_shot.grab(\n",
    "    screen_shot.monitors[2])), cv2.COLOR_BGRA2BGR)[:, :, ::-1]\n",
    "sh, sw, _ = ss.shape"
   ]
  },
  {
   "cell_type": "code",
   "execution_count": 6,
   "metadata": {},
   "outputs": [
    {
     "name": "stdout",
     "output_type": "stream",
     "text": [
      "H0:  [[ 5.92020035e-01 -1.74897327e-03  8.05921376e-01 -1.22593750e+04]\n",
      " [-3.43610090e-03  9.99983072e-01  4.69423505e-03 -4.67814697e+02]\n",
      " [-8.05915952e-01 -5.54830814e-03  5.92004001e-01 -3.98963867e+04]\n",
      " [ 0.00000000e+00  0.00000000e+00  0.00000000e+00  1.00000000e+00]]\n",
      "K0:  [[ 1.14408348e+03  0.00000000e+00 -9.60000000e+02  0.00000000e+00]\n",
      " [ 0.00000000e+00 -1.14408334e+03 -5.40000000e+02  0.00000000e+00]\n",
      " [ 0.00000000e+00  0.00000000e+00 -1.00000000e+00  0.00000000e+00]]\n"
     ]
    }
   ],
   "source": [
    "H0 = np.reshape(client.getDREF(\"sim/graphics/view/world_matrix\"), (4, 4)).T\n",
    "proj = np.reshape(client.getDREF(\n",
    "    \"sim/graphics/view/projection_matrix_3d\"), (4, 4)).T\n",
    "proj_3 = np.zeros((3, 4))\n",
    "proj_3[:2, :] = proj[:2, :]\n",
    "proj_3[2, :] = proj[3, :]\n",
    "screen_mat = np.array([[0.5 * sw, 0.0, 0.5 * sw],\n",
    "                       [0.0, -0.5 * sh, 0.5 * sh],\n",
    "                       [0.0, 0.0, 1.0]])\n",
    "K0 = screen_mat @ proj_3\n",
    "\n",
    "print(\"H0: \", H0)\n",
    "print(\"K0: \", K0)"
   ]
  },
  {
   "cell_type": "code",
   "execution_count": 7,
   "metadata": {},
   "outputs": [],
   "source": [
    "l1 = np.array([-23954.87792969, 225.3943862, 32806.69628906])\n",
    "l2 = np.array([-24449.80410156, 224.0555954, 33161.92558594])\n",
    "r1 = np.array([-23937.09082031, 225.32855225, 32831.61230469])\n",
    "r2 = np.array([-24432.01777344, 223.98096924, 33186.75800781])"
   ]
  },
  {
   "cell_type": "code",
   "execution_count": 8,
   "metadata": {},
   "outputs": [],
   "source": [
    "r1c = H0 @ np.append(r1, 1.0)\n",
    "r2c = H0 @ np.append(r2, 1.0)\n",
    "l1c = H0 @ np.append(l1, 1.0)\n",
    "l2c = H0 @ np.append(l2, 1.0)\n",
    "c1c = (l1c[:3] + r1c[:3]) / 2"
   ]
  },
  {
   "cell_type": "code",
   "execution_count": 9,
   "metadata": {},
   "outputs": [],
   "source": [
    "ground_plane = get_plane(np.array(r1c[:3]), np.array(r2c[:3]), np.array(l1c[:3]))"
   ]
  },
  {
   "attachments": {},
   "cell_type": "markdown",
   "metadata": {},
   "source": [
    "# Rotation"
   ]
  },
  {
   "cell_type": "code",
   "execution_count": 80,
   "metadata": {},
   "outputs": [
    {
     "data": {
      "text/plain": [
       "(array([   13.38632798,    -6.11540012, -1170.11564816]),\n",
       " array([-0.01113786,  0.00331633,  0.99993247]),\n",
       " array([    6.92491392, 18648.60891881,   -61.77202323, 41670.59509746]),\n",
       " array([[ 1144.08348083,     0.        ,  -960.        ,     0.        ],\n",
       "        [    0.        , -1144.08333778,  -540.        ,     0.        ],\n",
       "        [    0.        ,     0.        ,    -1.        ,     0.        ]]))"
      ]
     },
     "execution_count": 80,
     "metadata": {},
     "output_type": "execute_result"
    }
   ],
   "source": [
    "# Things needed\n",
    "np.set_printoptions(suppress=True)\n",
    "c1c, u1, ground_plane, K0\n"
   ]
  },
  {
   "cell_type": "code",
   "execution_count": 10,
   "metadata": {},
   "outputs": [],
   "source": [
    "def get_rot_y(theta):\n",
    "    return np.array([[np.cos(theta), 0.0, np.sin(theta)],\n",
    "                     [0.0, 1.0, 0.0],\n",
    "                     [-np.sin(theta), 0.0, np.cos(theta)]])"
   ]
  },
  {
   "cell_type": "code",
   "execution_count": 13,
   "metadata": {},
   "outputs": [],
   "source": [
    "def get_corresponding_plane(l, K0):\n",
    "    return K0.T @ l\n",
    "\n",
    "\n",
    "def get_3d_line(l, K0, ground_plane):\n",
    "    edge_plane = get_corresponding_plane(l, K0)\n",
    "    r_point, r_normal = get_plane_int(edge_plane, ground_plane)\n",
    "    return r_point, r_normal\n",
    "\n",
    "\n",
    "def get_distance(p1, l1, p2):\n",
    "    n = l1 / np.linalg.norm(l1)\n",
    "    m = np.cross(p1, n)\n",
    "\n",
    "    d = np.linalg.norm(np.cross(p2, n) - m)\n",
    "\n",
    "    return d"
   ]
  },
  {
   "cell_type": "code",
   "execution_count": 75,
   "metadata": {},
   "outputs": [],
   "source": [
    "def get_state(pixel_line, K0, ground_plane, u1, c1):\n",
    "    p2, u2 = get_3d_line(pixel_line, K0, ground_plane)\n",
    "\n",
    "    # Determine heading\n",
    "    cos_heading = np.dot(u1, u2) / (np.linalg.norm(u1) * np.linalg.norm(u2))\n",
    "    if cos_heading > 1.0:\n",
    "        cos_heading = 1.0\n",
    "    heading = np.arccos(cos_heading)  # degrees\n",
    "\n",
    "    # Unrotate\n",
    "    Ry = get_rot_y(heading)\n",
    "    p2rot, u2rot = Ry @ p2, Ry @ u2\n",
    "    if np.linalg.norm(np.cross(u1, u2rot / np.linalg.norm(u2rot))) > 1e-2:\n",
    "        # Rotated the wrong way\n",
    "        heading = -heading\n",
    "        Ry = get_rot_y(heading)\n",
    "        p2rot, u2rot = Ry @ p2, Ry @ u2\n",
    "\n",
    "    # Determine crosstrack\n",
    "    crosstrack = 13 - get_distance(p2rot, u2rot, c1)\n",
    "\n",
    "    return crosstrack, np.degrees(heading)\n"
   ]
  },
  {
   "cell_type": "code",
   "execution_count": 82,
   "metadata": {},
   "outputs": [
    {
     "name": "stdout",
     "output_type": "stream",
     "text": [
      "[-0. -0. -0.]\n",
      "[-0. -0. -0.]\n"
     ]
    }
   ],
   "source": [
    "setHomeState(client, 0, 680, 0)\n",
    "time.sleep(0.2)\n",
    "line_right = get_pixel_line(r1, r2, sh, sw)\n",
    "line_right_a, line_right_u = get_3d_line(line_right, K0, ground_plane)\n",
    "print((r1c[:3] - line_right_a) / line_right_u)\n",
    "line_left = get_pixel_line(l1, l2, sh, sw)\n",
    "line_left_a, line_left_u = get_3d_line(line_left, K0, ground_plane)\n",
    "print((l1c[:3] - line_left_a) / line_left_u)"
   ]
  },
  {
   "cell_type": "code",
   "execution_count": 83,
   "metadata": {},
   "outputs": [],
   "source": [
    "u1, u2 = line_right_u / \\\n",
    "    np.linalg.norm(line_right_u), line_right_u / np.linalg.norm(line_right_u)"
   ]
  },
  {
   "cell_type": "code",
   "execution_count": 85,
   "metadata": {},
   "outputs": [
    {
     "name": "stdout",
     "output_type": "stream",
     "text": [
      "12.875368850141637\n",
      "12.958430400724165\n"
     ]
    }
   ],
   "source": [
    "print(get_distance(line_right_a, line_right_u, c1c))\n",
    "print(get_distance(line_left_a, line_left_u, c1c))"
   ]
  },
  {
   "cell_type": "code",
   "execution_count": 79,
   "metadata": {},
   "outputs": [
    {
     "data": {
      "text/plain": [
       "(0.008017141968711172, 0.0016428193500113806)"
      ]
     },
     "execution_count": 79,
     "metadata": {},
     "output_type": "execute_result"
    }
   ],
   "source": [
    "setHomeState(client, 0.0, 680, 0.0)\n",
    "time.sleep(0.2)\n",
    "line_right = get_pixel_line(r1, r2, sh, sw)\n",
    "line_left = get_pixel_line(l1, l2, sh, sw)\n",
    "get_state(line_left, K0, ground_plane, u1, c1c)"
   ]
  },
  {
   "cell_type": "code",
   "execution_count": 47,
   "metadata": {},
   "outputs": [
    {
     "data": {
      "text/plain": [
       "(6.022070910518487, 0.0024267446215457547)"
      ]
     },
     "execution_count": 47,
     "metadata": {},
     "output_type": "execute_result"
    }
   ],
   "source": [
    "get_state(line_left, K0, ground_plane, u1, c1c)"
   ]
  },
  {
   "cell_type": "code",
   "execution_count": null,
   "metadata": {},
   "outputs": [],
   "source": []
  },
  {
   "cell_type": "code",
   "execution_count": 84,
   "metadata": {},
   "outputs": [
    {
     "data": {
      "text/plain": [
       "(array([   13.38632798,    -6.11540012, -1170.11564816]),\n",
       " array([-0.01113786,  0.00331633,  0.99993247]),\n",
       " array([    6.92491392, 18648.60891881,   -61.77202323, 41670.59509746]),\n",
       " array([[ 1144.08348083,     0.        ,  -960.        ,     0.        ],\n",
       "        [    0.        , -1144.08333778,  -540.        ,     0.        ],\n",
       "        [    0.        ,     0.        ,    -1.        ,     0.        ]]))"
      ]
     },
     "execution_count": 84,
     "metadata": {},
     "output_type": "execute_result"
    }
   ],
   "source": [
    "# Things needed\n",
    "np.set_printoptions(suppress=True)\n",
    "c1c, u1, ground_plane, K0"
   ]
  },
  {
   "cell_type": "code",
   "execution_count": null,
   "metadata": {},
   "outputs": [],
   "source": []
  }
 ],
 "metadata": {
  "kernelspec": {
   "display_name": "Python 3",
   "language": "python",
   "name": "python3"
  },
  "language_info": {
   "codemirror_mode": {
    "name": "ipython",
    "version": 3
   },
   "file_extension": ".py",
   "mimetype": "text/x-python",
   "name": "python",
   "nbconvert_exporter": "python",
   "pygments_lexer": "ipython3",
   "version": "3.9.2"
  },
  "orig_nbformat": 4
 },
 "nbformat": 4,
 "nbformat_minor": 2
}
